{
  "nbformat": 4,
  "nbformat_minor": 0,
  "metadata": {
    "colab": {
      "provenance": []
    },
    "kernelspec": {
      "name": "python3",
      "display_name": "Python 3"
    },
    "language_info": {
      "name": "python"
    }
  },
  "cells": [
    {
      "cell_type": "code",
      "execution_count": null,
      "metadata": {
        "id": "iHjyhBkUim9D"
      },
      "outputs": [],
      "source": [
        "from pyspark import SparkContext\n",
        "\n",
        "sc = SparkContext(\"local\", \"Football Analysis\")"
      ]
    },
    {
      "cell_type": "code",
      "source": [
        "data = sc.textFile(\"/content/Used_Bikes.csv\")\n",
        "\n",
        "\n",
        "header = data.first()\n",
        "rows = data.filter(lambda x: x != header)"
      ],
      "metadata": {
        "id": "GhcY7jbDjnOe"
      },
      "execution_count": null,
      "outputs": []
    },
    {
      "cell_type": "markdown",
      "metadata": {
        "id": "3205835c"
      },
      "source": [
        "# Question 1: Which city has the highest average bike price?"
      ]
    },
    {
      "cell_type": "code",
      "metadata": {
        "colab": {
          "base_uri": "https://localhost:8080/"
        },
        "id": "1efa5cec",
        "outputId": "f319e394-d34d-4b05-a136-0467fc9a73ff"
      },
      "source": [
        "city_price_rdd = (\n",
        "rows\n",
        ".map(lambda row: (row.split(',')[2], float(row.split(',')[1])) if row.split(',')[1] else None)\n",
        ".filter(lambda x: x is not None)\n",
        ")\n",
        "\n",
        "\n",
        "\n",
        "city_stats_rdd = city_price_rdd \\\n",
        ".mapValues(lambda price: (price, 1)) \\\n",
        ".reduceByKey(lambda a, b: (a[0] + b[0], a[1] + b[1]))\n",
        "\n",
        "\n",
        "\n",
        "city_avg_rdd = city_stats_rdd.mapValues(lambda x: x[0] / x[1])\n",
        "\n",
        "\n",
        "\n",
        "highest_avg_city = city_avg_rdd.takeOrdered(1, key=lambda x: -x[1])\n",
        "\n",
        "print(\"City with highest average bike price:\", highest_avg_city)"
      ],
      "execution_count": 14,
      "outputs": [
        {
          "output_type": "stream",
          "name": "stdout",
          "text": [
            "City with highest average bike price: [('Chandrapur', 1250000.0)]\n"
          ]
        }
      ]
    },
    {
      "cell_type": "markdown",
      "metadata": {
        "id": "b2002635"
      },
      "source": [
        "# Question 2: Which brand has the lowest average bike price?"
      ]
    },
    {
      "cell_type": "code",
      "metadata": {
        "colab": {
          "base_uri": "https://localhost:8080/"
        },
        "id": "b34bdef7",
        "outputId": "2a52b756-73ba-4d64-c16f-c426cb53d7af"
      },
      "source": [
        "brand_price_rdd = (\n",
        "    rows\n",
        "    .map(lambda row: row.split(','))\n",
        "    .filter(lambda parts: len(parts) > 7 and parts[7] and parts[1]) # Ensure brand and price columns exist and are not empty\n",
        "    .map(lambda parts: (parts[7], float(parts[1])))\n",
        ")\n",
        "\n",
        "\n",
        "brand_stats_rdd = brand_price_rdd \\\n",
        "    .mapValues(lambda price: (price, 1)) \\\n",
        "    .reduceByKey(lambda a, b: (a[0] + b[0], a[1] + b[1]))\n",
        "\n",
        "\n",
        "brand_avg_rdd = brand_stats_rdd.mapValues(lambda x: x[0] / x[1])\n",
        "\n",
        "\n",
        "\n",
        "lowest_avg_brand = brand_avg_rdd.takeOrdered(1, key=lambda x: x[1])\n",
        "\n",
        "\n",
        "\n",
        "print(\"Brand with lowest average bike price:\", lowest_avg_brand)"
      ],
      "execution_count": 15,
      "outputs": [
        {
          "output_type": "stream",
          "name": "stdout",
          "text": [
            "Brand with lowest average bike price: [('LML', 4400.0)]\n"
          ]
        }
      ]
    },
    {
      "cell_type": "markdown",
      "metadata": {
        "id": "744d3e35"
      },
      "source": [
        "# Question 3: Which ownership type (First, Second, etc.) is most common?"
      ]
    },
    {
      "cell_type": "code",
      "metadata": {
        "colab": {
          "base_uri": "https://localhost:8080/"
        },
        "id": "909aa303",
        "outputId": "ade521c8-3c05-494a-9b3b-419286fdbc0e"
      },
      "source": [
        "ownership_rdd = rows.map(lambda row: (row.split(',')[4], 1))\n",
        "\n",
        "\n",
        "ownership_counts = ownership_rdd.reduceByKey(lambda a, b: a + b)\n",
        "\n",
        "\n",
        "most_common_ownership = ownership_counts.takeOrdered(1, key=lambda x: -x[1])\n",
        "\n",
        "\n",
        "print(\"Most common ownership type:\", most_common_ownership)"
      ],
      "execution_count": 16,
      "outputs": [
        {
          "output_type": "stream",
          "name": "stdout",
          "text": [
            "Most common ownership type: [('First Owner', 29964)]\n"
          ]
        }
      ]
    },
    {
      "cell_type": "markdown",
      "metadata": {
        "id": "ec200498"
      },
      "source": [
        "# Question 4: Which brand has the highest average power per bike?"
      ]
    },
    {
      "cell_type": "code",
      "metadata": {
        "colab": {
          "base_uri": "https://localhost:8080/"
        },
        "id": "d52daf0c",
        "outputId": "61130a7f-8615-4793-b126-2394cdf2e7f9"
      },
      "source": [
        "brand_power_rdd = (\n",
        "    rows\n",
        "    .map(lambda row: row.split(','))\n",
        "    .filter(lambda parts: len(parts) > 7 and parts[7] and parts[6])\n",
        "    .map(lambda parts: (parts[7], float(parts[6])))\n",
        ")\n",
        "\n",
        "\n",
        "brand_power_stats_rdd = brand_power_rdd \\\n",
        "    .mapValues(lambda power: (power, 1)) \\\n",
        "    .reduceByKey(lambda a, b: (a[0] + b[0], a[1] + b[1]))\n",
        "\n",
        "\n",
        "brand_avg_power_rdd = brand_power_stats_rdd.mapValues(lambda x: x[0] / x[1])\n",
        "\n",
        "\n",
        "highest_avg_power_brand = brand_avg_power_rdd.takeOrdered(1, key=lambda x: -x[1])\n",
        "\n",
        "\n",
        "print(\"Brand with highest average power:\", highest_avg_power_brand)"
      ],
      "execution_count": 17,
      "outputs": [
        {
          "output_type": "stream",
          "name": "stdout",
          "text": [
            "Brand with highest average power: [('Indian', 1353.3333333333333)]\n"
          ]
        }
      ]
    },
    {
      "cell_type": "markdown",
      "metadata": {
        "id": "1cfa17a1"
      },
      "source": [
        "# Question 5: What is the probability that a bike is from \"Royal Enfield\"?"
      ]
    },
    {
      "cell_type": "code",
      "metadata": {
        "colab": {
          "base_uri": "https://localhost:8080/"
        },
        "id": "2ad2a228",
        "outputId": "4d5bd246-1ce1-4d55-cc26-10d96906b994"
      },
      "source": [
        "total_bikes = rows.count()\n",
        "\n",
        "\n",
        "royal_enfield_bikes = rows.filter(lambda row: \"Royal Enfield\" in row.split(',')[7]).count()\n",
        "\n",
        "\n",
        "probability_royal_enfield = royal_enfield_bikes / total_bikes if total_bikes > 0 else 0\n",
        "\n",
        "\n",
        "print(f\"Probability that a bike is from 'Royal Enfield': {probability_royal_enfield:.4f}\")"
      ],
      "execution_count": 18,
      "outputs": [
        {
          "output_type": "stream",
          "name": "stdout",
          "text": [
            "Probability that a bike is from 'Royal Enfield': 0.1280\n"
          ]
        }
      ]
    },
    {
      "cell_type": "code",
      "metadata": {
        "colab": {
          "base_uri": "https://localhost:8080/",
          "height": 104
        },
        "id": "a17a310a",
        "outputId": "7bfc7319-7982-4e51-b371-d0d5283b5ae6"
      },
      "source": [
        "display(rows.take(5))"
      ],
      "execution_count": null,
      "outputs": [
        {
          "output_type": "display_data",
          "data": {
            "text/plain": [
              "['TVS Star City Plus Dual Tone 110cc,35000.0,Ahmedabad,17654.0,First Owner,3.0,110.0,TVS',\n",
              " 'Royal Enfield Classic 350cc,119900.0,Delhi,11000.0,First Owner,4.0,350.0,Royal Enfield',\n",
              " 'Triumph Daytona 675R,600000.0,Delhi,110.0,First Owner,8.0,675.0,Triumph',\n",
              " 'TVS Apache RTR 180cc,65000.0,Bangalore,16329.0,First Owner,4.0,180.0,TVS',\n",
              " 'Yamaha FZ S V 2.0 150cc-Ltd. Edition,80000.0,Bangalore,10000.0,First Owner,3.0,150.0,Yamaha']"
            ]
          },
          "metadata": {}
        }
      ]
    }
  ]
}